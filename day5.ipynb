{
 "cells": [
  {
   "cell_type": "code",
   "execution_count": 3,
   "metadata": {
    "collapsed": true
   },
   "outputs": [
    {
     "name": "stdout",
     "output_type": "stream",
     "text": [
      "SHMSDGZVC\n"
     ]
    }
   ],
   "source": [
    "import string\n",
    "import re\n",
    "from collections import deque\n",
    "\n",
    "\"\"\"\n",
    "Plan of attack:\n",
    "- Use a list of deques as the data structure for the crates\n",
    "- Parse the file by first reading the 'table' and turning it into the data structure\n",
    "- Then parse the instructions into operations and execute them: move [multiplicity] from [source] to [target]\n",
    "\"\"\"\n",
    "\n",
    "with open('inputs/day5-input') as f:\n",
    "    \"\"\" Find the table in the file \"\"\"\n",
    "    rows = 0\n",
    "    line = f.readline()\n",
    "    while not line.lstrip()[0].isdigit():\n",
    "        rows += 1\n",
    "        line = f.readline()\n",
    "\n",
    "    \"\"\" Read the table into a data structure \"\"\"\n",
    "    col_offsets = [_.start() for _ in re.finditer(re.compile(r'\\d'), line)]\n",
    "    stop = f.tell()  # We've read far enough to capture the table\n",
    "    f.seek(0)\n",
    "    table_raw = f.readlines(stop)[:rows]\n",
    "    table = [[row[_] for _ in col_offsets] for row in table_raw]\n",
    "\n",
    "    queue_list = [deque() for _ in col_offsets]\n",
    "    for r in table:\n",
    "        for i, c in enumerate(r):\n",
    "            if c != ' ':\n",
    "                queue_list[i].appendleft(c)\n",
    "\n",
    "    \"\"\" Follow the instructions \"\"\"\n",
    "    # I made this regex more brittle by encoding the instruction format directly into it. This ensures that any change to the source format will break the code, causing it to fail whatever tests would be written for it. Good interface design for something as flimsy as regex (or shell, etc.).\n",
    "    regex = re.compile(r'^move\\s*(?P<mult>\\d+)\\s*from\\s*(?P<source>\\d+)\\s*to\\s*(?P<target>\\d+)$')\n",
    "\n",
    "    f.seek(stop) # Return to the line after the table and its legend\n",
    "    while True:\n",
    "        line = f.readline()\n",
    "        if len(line) != 0:  # Check for EOF\n",
    "            instruction = re.match(regex, line.strip())\n",
    "            if instruction:  # Check for a non-instruction line\n",
    "                details = instruction.groupdict()\n",
    "                for _ in range(int(details['mult'])):\n",
    "                    queue_list[int(details['target']) - 1].append(queue_list[int(details['source']) - 1].pop())\n",
    "        else:\n",
    "            break\n",
    "\n",
    "print(''.join([_.pop() for _ in queue_list]))"
   ]
  }
 ],
 "metadata": {
  "kernelspec": {
   "display_name": "Python 3",
   "language": "python",
   "name": "python3"
  },
  "language_info": {
   "codemirror_mode": {
    "name": "ipython",
    "version": 2
   },
   "file_extension": ".py",
   "mimetype": "text/x-python",
   "name": "python",
   "nbconvert_exporter": "python",
   "pygments_lexer": "ipython2",
   "version": "2.7.6"
  }
 },
 "nbformat": 4,
 "nbformat_minor": 0
}
