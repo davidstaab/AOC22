{
 "cells": [
  {
   "cell_type": "markdown",
   "source": [
    "Part 1: Count visible trees"
   ],
   "metadata": {
    "collapsed": false
   }
  },
  {
   "cell_type": "code",
   "execution_count": 13,
   "metadata": {
    "collapsed": true
   },
   "outputs": [
    {
     "name": "stdout",
     "output_type": "stream",
     "text": [
      "1859 visible trees\n"
     ]
    }
   ],
   "source": [
    "import numpy as np\n",
    "\n",
    "with open('../inputs/day8-input') as f:\n",
    "    trees = np.array([[n for n in l.rstrip()] for l in f.readlines()], dtype='int')\n",
    "\n",
    "# From the top: first axis, index increasing\n",
    "tallest = np.full(trees.shape[1], -1)\n",
    "visibles = np.full(trees.shape, False)\n",
    "for i in range(trees.shape[0]):\n",
    "    visibles[i] = np.greater(trees[i], tallest)\n",
    "    tallest = np.where(trees[i] > tallest, trees[i], tallest)\n",
    "\n",
    "# From the bottom\n",
    "tallest[:] = -1\n",
    "for i in range(trees.shape[0] - 1, -1, -1):\n",
    "    visibles[i] = np.logical_or(visibles[i], np.greater(trees[i], tallest))\n",
    "    tallest = np.where(trees[i] > tallest, trees[i], tallest)\n",
    "\n",
    "# From the left: second axis, index increasing\n",
    "tallest.reshape((1, trees.shape[0]))\n",
    "tallest[:] = -1\n",
    "for i in range(trees.shape[0]):\n",
    "    visibles[:, i] = np.logical_or(visibles[:, i], np.greater(trees[:, i], tallest))\n",
    "    tallest = np.where(trees[:, i] > tallest, trees[:, i], tallest)\n",
    "\n",
    "# From the right\n",
    "tallest[:] = -1\n",
    "for i in range(trees.shape[0] - 1, -1, -1):\n",
    "    visibles[:, i] = np.logical_or(visibles[:, i], np.greater(trees[:, i], tallest))\n",
    "    tallest = np.where(trees[:, i] > tallest, trees[:, i], tallest)\n",
    "\n",
    "print(f'{visibles.sum()} visible trees')"
   ]
  }
 ],
 "metadata": {
  "kernelspec": {
   "display_name": "Python 3",
   "language": "python",
   "name": "python3"
  },
  "language_info": {
   "codemirror_mode": {
    "name": "ipython",
    "version": 2
   },
   "file_extension": ".py",
   "mimetype": "text/x-python",
   "name": "python",
   "nbconvert_exporter": "python",
   "pygments_lexer": "ipython2",
   "version": "2.7.6"
  }
 },
 "nbformat": 4,
 "nbformat_minor": 0
}
