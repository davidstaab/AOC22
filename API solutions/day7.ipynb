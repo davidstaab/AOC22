{
 "cells": [
  {
   "cell_type": "markdown",
   "source": [
    "**Utilities**"
   ],
   "metadata": {
    "collapsed": false
   }
  },
  {
   "cell_type": "code",
   "execution_count": 1,
   "outputs": [
    {
     "name": "stdout",
     "output_type": "stream",
     "text": [
      "\n",
      "├── one-one\n",
      "│   ├── two-one\n",
      "│   └── two-two\n",
      "└── one-two\n"
     ]
    }
   ],
   "source": [
    "from anytree import Node, Resolver, TreeError, RenderTree, AsciiStyle\n",
    "from enum import Enum, auto\n",
    "from collections import deque\n",
    "\n",
    "\"\"\"\n",
    "Node's hidden properties:\n",
    "    parent, children, siblings, ancestors, descendants\n",
    "    root, leaves, is_root, is_leaf\n",
    "    height, depth, path, iter_path_reverse (iterate **up** the tree from here)\n",
    "I'll also give it a kwarg 'size': int.\n",
    "\n",
    "PostOrderIter lists leaves first. Good for calculating directory size efficiently.\n",
    "    Use filter_=lambda n: n.is_leaf\n",
    "\"\"\"\n",
    "\n",
    "def read_line_s(file):\n",
    "    line = f.readline()\n",
    "    if line == '':\n",
    "        raise EOFError\n",
    "    return line.rstrip().split(' ')\n",
    "\n",
    "\n",
    "class Mode(Enum):\n",
    "    CMD = auto()\n",
    "    RESP = auto()\n",
    "\n",
    "\n",
    "class FileStructure:\n",
    "    \"\"\"\n",
    "    Implementation of the entire file structure. 'anytree' left the app responsible for too much.\n",
    "\n",
    "    Properties: pwd, root\n",
    "    Methods: add('name', size=1), cd('name')\n",
    "    \"\"\"\n",
    "\n",
    "    def __init__(self, root_name: str=''):\n",
    "        self._root = Node(root_name, size=-1)\n",
    "        self._resolver = Resolver('name')\n",
    "        self._pwd = self._root\n",
    "\n",
    "    def __repr__(self):\n",
    "        _repr = deque()\n",
    "        for pre, _, node in RenderTree(self._root, maxlevel=3):\n",
    "            _repr.append(f'{pre}{node.name}')\n",
    "        return '\\n'.join(_repr)\n",
    "\n",
    "    def render(self, maxlevel: any=None):\n",
    "        \"\"\"\n",
    "        Same as __repr__ but this supports 'maxlevel'.\n",
    "        \"\"\"\n",
    "        _repr = deque()\n",
    "        for pre, _, node in RenderTree(self._root, maxlevel=maxlevel):\n",
    "            _repr.append(f'{pre}{node.name}')\n",
    "        return '\\n'.join(_repr)\n",
    "\n",
    "    def add(self, name: str, size: int=-1):\n",
    "        try:\n",
    "            Node(name, parent=self._pwd, size=size)\n",
    "        except TreeError:\n",
    "            raise ValueError(f'{name} already exists in file tree.')\n",
    "\n",
    "    def cd(self, name: str):\n",
    "        _base = self._root\n",
    "        if name == '/':\n",
    "           name = ''  # anytree uses '' as the root name, but the caller doesn't\n",
    "        elif name in ['.', '..']:\n",
    "            _base = self._pwd  # relative paths start at pwd\n",
    "        self._pwd = self._resolver.get(_base, name)\n",
    "\n",
    "    @property\n",
    "    def pwd(self) -> str:\n",
    "        return self._pwd.name\n",
    "\n",
    "    @property\n",
    "    def root(self) -> str:\n",
    "        return self._root.name\n",
    "\n",
    "# Test the class\n",
    "test = FileStructure()\n",
    "test.add('one-one', size=1)\n",
    "test.add('one-two', size=12)\n",
    "test.cd('one-one')\n",
    "test.add('two-one', size=21)\n",
    "test.add('two-two', size=22)\n",
    "print(test.render())"
   ],
   "metadata": {
    "collapsed": false
   }
  },
  {
   "cell_type": "markdown",
   "source": [
    "**Part 1:**"
   ],
   "metadata": {
    "collapsed": false
   }
  },
  {
   "cell_type": "code",
   "execution_count": 2,
   "outputs": [
    {
     "name": "stdout",
     "output_type": "stream",
     "text": [
      "/ → $ cd /\n",
      "/ → $ ls\n",
      "/ → dir fwbjchs\n",
      "/ → dir hmnpr\n",
      "/ → dir jtrbrcjl\n",
      "/ → dir lcgv\n",
      "/ → dir ldqc\n",
      "/ → dir vrvl\n",
      "/ → $ cd fwbjchs\n",
      "/fwbjchs → $ ls\n",
      "/fwbjchs → 154619 wqdlv.mdw\n",
      "/fwbjchs → 21648 wvbnz\n",
      "/fwbjchs → $ cd ..\n",
      "/ → $ cd hmnpr\n",
      "/hmnpr → $ ls\n",
      "/hmnpr → 178623 rftqqsrp.bfm\n",
      "/hmnpr → $ cd ..\n",
      "/ → $ cd jtrbrcjl\n",
      "/jtrbrcjl → $ ls\n",
      "/jtrbrcjl → dir nmbfwc\n",
      "/jtrbrcjl → dir whqb\n",
      "/jtrbrcjl → $ cd nmbfwc\n"
     ]
    },
    {
     "ename": "ChildResolverError",
     "evalue": "Node('/', size=-1) has no child nmbfwc. Children are: 'fwbjchs', 'hmnpr', 'jtrbrcjl', 'lcgv', 'ldqc', 'vrvl'.",
     "output_type": "error",
     "traceback": [
      "\u001B[0;31m---------------------------------------------------------------------------\u001B[0m",
      "\u001B[0;31mChildResolverError\u001B[0m                        Traceback (most recent call last)",
      "Cell \u001B[0;32mIn[2], line 29\u001B[0m\n\u001B[1;32m     27\u001B[0m \u001B[38;5;28;01mif\u001B[39;00m pieces[\u001B[38;5;241m0\u001B[39m] \u001B[38;5;241m==\u001B[39m \u001B[38;5;124m'\u001B[39m\u001B[38;5;124m$\u001B[39m\u001B[38;5;124m'\u001B[39m:\n\u001B[1;32m     28\u001B[0m     \u001B[38;5;28;01mif\u001B[39;00m pieces[\u001B[38;5;241m1\u001B[39m] \u001B[38;5;241m==\u001B[39m \u001B[38;5;124m'\u001B[39m\u001B[38;5;124mcd\u001B[39m\u001B[38;5;124m'\u001B[39m:\n\u001B[0;32m---> 29\u001B[0m         \u001B[38;5;28;43mdir\u001B[39;49m\u001B[38;5;241;43m.\u001B[39;49m\u001B[43mcd\u001B[49m\u001B[43m(\u001B[49m\u001B[43mpieces\u001B[49m\u001B[43m[\u001B[49m\u001B[38;5;241;43m2\u001B[39;49m\u001B[43m]\u001B[49m\u001B[43m)\u001B[49m\n\u001B[1;32m     30\u001B[0m     \u001B[38;5;28;01melif\u001B[39;00m pieces[\u001B[38;5;241m1\u001B[39m] \u001B[38;5;241m==\u001B[39m \u001B[38;5;124m'\u001B[39m\u001B[38;5;124mls\u001B[39m\u001B[38;5;124m'\u001B[39m:\n\u001B[1;32m     31\u001B[0m         mode \u001B[38;5;241m=\u001B[39m Mode\u001B[38;5;241m.\u001B[39mRESP  \u001B[38;5;66;03m# Switch to Response mode for next line\u001B[39;00m\n",
      "Cell \u001B[0;32mIn[1], line 68\u001B[0m, in \u001B[0;36mFileStructure.cd\u001B[0;34m(self, name)\u001B[0m\n\u001B[1;32m     66\u001B[0m \u001B[38;5;28;01melif\u001B[39;00m name \u001B[38;5;129;01min\u001B[39;00m [\u001B[38;5;124m'\u001B[39m\u001B[38;5;124m.\u001B[39m\u001B[38;5;124m'\u001B[39m, \u001B[38;5;124m'\u001B[39m\u001B[38;5;124m..\u001B[39m\u001B[38;5;124m'\u001B[39m]:\n\u001B[1;32m     67\u001B[0m     _base \u001B[38;5;241m=\u001B[39m \u001B[38;5;28mself\u001B[39m\u001B[38;5;241m.\u001B[39m_pwd  \u001B[38;5;66;03m# relative paths start at pwd\u001B[39;00m\n\u001B[0;32m---> 68\u001B[0m \u001B[38;5;28mself\u001B[39m\u001B[38;5;241m.\u001B[39m_pwd \u001B[38;5;241m=\u001B[39m \u001B[38;5;28;43mself\u001B[39;49m\u001B[38;5;241;43m.\u001B[39;49m\u001B[43m_resolver\u001B[49m\u001B[38;5;241;43m.\u001B[39;49m\u001B[43mget\u001B[49m\u001B[43m(\u001B[49m\u001B[43m_base\u001B[49m\u001B[43m,\u001B[49m\u001B[43m \u001B[49m\u001B[43mname\u001B[49m\u001B[43m)\u001B[49m\n",
      "File \u001B[0;32m~/opt/anaconda3/envs/notbase/lib/python3.10/site-packages/anytree/resolver.py:76\u001B[0m, in \u001B[0;36mResolver.get\u001B[0;34m(self, node, path)\u001B[0m\n\u001B[1;32m     74\u001B[0m         \u001B[38;5;28;01mpass\u001B[39;00m\n\u001B[1;32m     75\u001B[0m     \u001B[38;5;28;01melse\u001B[39;00m:\n\u001B[0;32m---> 76\u001B[0m         node \u001B[38;5;241m=\u001B[39m \u001B[38;5;28;43mself\u001B[39;49m\u001B[38;5;241;43m.\u001B[39;49m\u001B[43m__get\u001B[49m\u001B[43m(\u001B[49m\u001B[43mnode\u001B[49m\u001B[43m,\u001B[49m\u001B[43m \u001B[49m\u001B[43mpart\u001B[49m\u001B[43m)\u001B[49m\n\u001B[1;32m     77\u001B[0m \u001B[38;5;28;01mreturn\u001B[39;00m node\n",
      "File \u001B[0;32m~/opt/anaconda3/envs/notbase/lib/python3.10/site-packages/anytree/resolver.py:83\u001B[0m, in \u001B[0;36mResolver.__get\u001B[0;34m(self, node, name)\u001B[0m\n\u001B[1;32m     81\u001B[0m     \u001B[38;5;28;01mif\u001B[39;00m \u001B[38;5;28mstr\u001B[39m(_getattr(child, \u001B[38;5;28mself\u001B[39m\u001B[38;5;241m.\u001B[39mpathattr)) \u001B[38;5;241m==\u001B[39m name:\n\u001B[1;32m     82\u001B[0m         \u001B[38;5;28;01mreturn\u001B[39;00m child\n\u001B[0;32m---> 83\u001B[0m \u001B[38;5;28;01mraise\u001B[39;00m ChildResolverError(node, name, \u001B[38;5;28mself\u001B[39m\u001B[38;5;241m.\u001B[39mpathattr)\n",
      "\u001B[0;31mChildResolverError\u001B[0m: Node('/', size=-1) has no child nmbfwc. Children are: 'fwbjchs', 'hmnpr', 'jtrbrcjl', 'lcgv', 'ldqc', 'vrvl'."
     ]
    }
   ],
   "source": [
    "# Build the file tree\n",
    "dir = FileStructure()\n",
    "mode = Mode.CMD\n",
    "with open('../inputs/day7-input') as f:\n",
    "    # State machine (flat design)\n",
    "    while True:\n",
    "\n",
    "        try:\n",
    "            pieces = read_line_s(f)\n",
    "        except EOFError:\n",
    "            break\n",
    "\n",
    "        print(f'/{dir.pwd} → ' + ' '.join(pieces))  # For debugging\n",
    "\n",
    "        if mode == Mode.RESP:\n",
    "            # Response mode\n",
    "            if pieces[0] == 'dir':\n",
    "                dir.add(pieces[1])\n",
    "                continue\n",
    "            elif pieces[0].isdigit():\n",
    "                dir.add(pieces[1], pieces[0])\n",
    "                continue\n",
    "            else:\n",
    "                mode = Mode.CMD\n",
    "\n",
    "        # Command mode\n",
    "        if pieces[0] == '$':\n",
    "            if pieces[1] == 'cd':\n",
    "                dir.cd(pieces[2])\n",
    "            elif pieces[1] == 'ls':\n",
    "                mode = Mode.RESP  # Switch to Response mode for next line\n",
    "            else:\n",
    "                raise ValueError(f'{pieces[1]} is not a valid input command.')\n",
    "\n",
    "# Sum file sizes\n",
    "# TODO"
   ],
   "metadata": {
    "collapsed": false
   }
  }
 ],
 "metadata": {
  "kernelspec": {
   "display_name": "Python 3",
   "language": "python",
   "name": "python3"
  },
  "language_info": {
   "codemirror_mode": {
    "name": "ipython",
    "version": 2
   },
   "file_extension": ".py",
   "mimetype": "text/x-python",
   "name": "python",
   "nbconvert_exporter": "python",
   "pygments_lexer": "ipython2",
   "version": "2.7.6"
  }
 },
 "nbformat": 4,
 "nbformat_minor": 0
}
