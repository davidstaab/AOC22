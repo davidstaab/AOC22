{
 "cells": [
  {
   "cell_type": "markdown",
   "source": [
    "**Part 1**\n",
    "Respond with the shape given by the input, assuming A==X, B==Y, C==Z"
   ],
   "metadata": {
    "collapsed": false
   }
  },
  {
   "cell_type": "code",
   "execution_count": 1,
   "outputs": [
    {
     "name": "stdout",
     "output_type": "stream",
     "text": [
      "Total score: 13565\n"
     ]
    }
   ],
   "source": [
    "shapes = [('A', 'X', 1), ('B', 'Y', 2), ('C', 'Z', 3)]  # Correlate values and scores\n",
    "results = [3, 6, 0]  # Arrange values for modulo idx: [Draw, Win, Lose]\n",
    "\n",
    "score = 0\n",
    "my_idx, his_idx = 0, 0\n",
    "for line in open('day2-input'):\n",
    "    his, mine = line.rstrip().split(' ')\n",
    "    for s in shapes:\n",
    "        if s[1] == mine:\n",
    "            my_idx = shapes.index(s)\n",
    "            score += s[2]\n",
    "            break\n",
    "    for s in shapes:\n",
    "        if s[0] == his:\n",
    "            his_idx = shapes.index(s)\n",
    "            break\n",
    "    score += results[(my_idx - his_idx) % len(shapes)]\n",
    "\n",
    "print('Total score: {0}'.format(score))"
   ],
   "metadata": {
    "collapsed": false
   }
  },
  {
   "cell_type": "markdown",
   "source": [
    "**Part 2**\n",
    "The input's X,Y,Z are results. Choose the shape that yields the input result."
   ],
   "metadata": {
    "collapsed": false
   }
  },
  {
   "cell_type": "code",
   "execution_count": 2,
   "outputs": [
    {
     "name": "stdout",
     "output_type": "stream",
     "text": [
      "Total score: 12424\n"
     ]
    }
   ],
   "source": [
    "# TODO: Refactor these tuples into collections.namedtuple for legibility\n",
    "shapes = [('A', 1), ('B', 2), ('C', 3)]  # (shape, shape score)\n",
    "\n",
    "# Index items to modulo subtraction results:\n",
    "# Draw = 0, Win = 1, Loss = -1 (mod 3)\n",
    "# Use a \"pointer\" to index the Shape I'll throw in response\n",
    "results = [('Y', 0, 3), ('Z', 1, 6), ('X', -1, 0)]  # (result code, my shape ptr, result score)\n",
    "\n",
    "score = 0\n",
    "my_idx, his_idx, goal_idx = 0, 0, 0\n",
    "for line in open('day2-input'):\n",
    "    his, goal = line.rstrip().split(' ')\n",
    "    for s in shapes:\n",
    "        if s[0] == his:\n",
    "            his_idx = shapes.index(s)\n",
    "            break\n",
    "    for r in results:\n",
    "        if r[0] == goal:\n",
    "            goal_idx = results.index(r)\n",
    "            break\n",
    "    my_idx = (his_idx + results[goal_idx][1]) % len(shapes)  # Use the shape pointer from the result tuple to find my shape\n",
    "    score += shapes[my_idx][1] + results[goal_idx][2]\n",
    "\n",
    "print('Total score: {0}'.format(score))"
   ],
   "metadata": {
    "collapsed": false
   }
  }
 ],
 "metadata": {
  "kernelspec": {
   "display_name": "Python 3",
   "language": "python",
   "name": "python3"
  },
  "language_info": {
   "codemirror_mode": {
    "name": "ipython",
    "version": 2
   },
   "file_extension": ".py",
   "mimetype": "text/x-python",
   "name": "python",
   "nbconvert_exporter": "python",
   "pygments_lexer": "ipython2",
   "version": "2.7.6"
  }
 },
 "nbformat": 4,
 "nbformat_minor": 0
}
