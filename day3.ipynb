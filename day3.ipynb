{
 "cells": [
  {
   "cell_type": "markdown",
   "source": [
    "**Part 1**: Compare between rucksack compartments"
   ],
   "metadata": {
    "collapsed": false
   }
  },
  {
   "cell_type": "code",
   "execution_count": 1,
   "outputs": [
    {
     "name": "stdout",
     "output_type": "stream",
     "text": [
      "Sum of priorities: 7863\n"
     ]
    }
   ],
   "source": [
    "import string\n",
    "\n",
    "\n",
    "class Item:\n",
    "    item_type = list(string.ascii_letters)\n",
    "\n",
    "    def priority(cls, c: str):\n",
    "        return cls.item_type.index(c) + 1  # Need 1-indexed values\n",
    "\n",
    "item = Item()\n",
    "priority_sum = 0\n",
    "for line in open('inputs/day3-input'):\n",
    "    sack = line.rstrip()\n",
    "    split_idx = len(sack)//2\n",
    "    left, right = sack[:split_idx], sack[split_idx:]\n",
    "    for c in left:\n",
    "        if c in right:\n",
    "            priority_sum += item.priority(c)\n",
    "            break  # Found the duped type; don't need all instances. Stop searching.\n",
    "\n",
    "print('Sum of priorities: {0}'.format(priority_sum))"
   ],
   "metadata": {
    "collapsed": false
   }
  },
  {
   "cell_type": "markdown",
   "source": [
    "**Part 2**: Compare across rucksacks"
   ],
   "metadata": {
    "collapsed": false
   }
  },
  {
   "cell_type": "code",
   "execution_count": 2,
   "outputs": [
    {
     "name": "stdout",
     "output_type": "stream",
     "text": [
      "Sum of priorities: 2488\n"
     ]
    }
   ],
   "source": [
    "priority_sum = 0  # Reinit\n",
    "with open('inputs/day3-input') as f:\n",
    "    while True:  # ...is not EOF (null object)\n",
    "        one = f.readline().rstrip()\n",
    "        two = f.readline().rstrip()\n",
    "        three = f.readline().rstrip()\n",
    "        if any([one == '', two == '', three == '']):\n",
    "            break\n",
    "        for c in one:\n",
    "            if c in two:\n",
    "                if c in three:\n",
    "                    priority_sum += item.priority(c)\n",
    "                    break\n",
    "\n",
    "print('Sum of priorities: {0}'.format(priority_sum))"
   ],
   "metadata": {
    "collapsed": false
   }
  }
 ],
 "metadata": {
  "kernelspec": {
   "display_name": "Python 3",
   "language": "python",
   "name": "python3"
  },
  "language_info": {
   "codemirror_mode": {
    "name": "ipython",
    "version": 2
   },
   "file_extension": ".py",
   "mimetype": "text/x-python",
   "name": "python",
   "nbconvert_exporter": "python",
   "pygments_lexer": "ipython2",
   "version": "2.7.6"
  }
 },
 "nbformat": 4,
 "nbformat_minor": 0
}
