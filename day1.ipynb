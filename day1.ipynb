{
 "cells": [
  {
   "cell_type": "markdown",
   "source": [
    "**Part 1**"
   ],
   "metadata": {
    "collapsed": false
   }
  },
  {
   "cell_type": "code",
   "execution_count": 1,
   "outputs": [
    {
     "name": "stdout",
     "output_type": "stream",
     "text": [
      "74394\n"
     ]
    }
   ],
   "source": [
    "most, total = 0, 0\n",
    "for line in open('inputs/day1-input'):\n",
    "    if line.rstrip().isnumeric():\n",
    "        breakpoint()\n",
    "        total += int(line)\n",
    "    else:\n",
    "        most = max(most, total)\n",
    "        total = 0\n",
    "print(most)"
   ],
   "metadata": {
    "collapsed": false
   }
  },
  {
   "cell_type": "markdown",
   "source": [
    "**Part 2**"
   ],
   "metadata": {
    "collapsed": false
   }
  },
  {
   "cell_type": "code",
   "execution_count": 2,
   "outputs": [
    {
     "name": "stdout",
     "output_type": "stream",
     "text": [
      "212836\n"
     ]
    }
   ],
   "source": [
    "most, total = [0,0,0], 0  # Reinitialize and redefine structure\n",
    "for line in open('inputs/day1-input'):\n",
    "    if line.rstrip().isnumeric():\n",
    "        breakpoint()\n",
    "        total += int(line)\n",
    "    else:\n",
    "        _ = min(most)\n",
    "        most[most.index(_)] = max(_, total)  # Replace the least of the top 3\n",
    "        total = 0\n",
    "print(sum(most))"
   ],
   "metadata": {
    "collapsed": false
   }
  }
 ],
 "metadata": {
  "kernelspec": {
   "display_name": "Python 3",
   "language": "python",
   "name": "python3"
  },
  "language_info": {
   "codemirror_mode": {
    "name": "ipython",
    "version": 2
   },
   "file_extension": ".py",
   "mimetype": "text/x-python",
   "name": "python",
   "nbconvert_exporter": "python",
   "pygments_lexer": "ipython2",
   "version": "2.7.6"
  }
 },
 "nbformat": 4,
 "nbformat_minor": 0
}
