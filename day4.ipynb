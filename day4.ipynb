{
 "cells": [
  {
   "cell_type": "code",
   "execution_count": null,
   "metadata": {
    "collapsed": true
   },
   "outputs": [],
   "source": [
    "contains = 0\n",
    "assignments = [[], []]\n",
    "for line in open('day4-input'):\n",
    "    for idx, a in zip(range(2), line.rstrip().split(',', maxsplit=1)):\n",
    "        assign_strs = a.split('-', maxsplit=1)\n",
    "        assignments[idx] = [int(_) for _ in assign_strs]\n",
    "    left, right = assignments[0], assignments[1]\n",
    "    if left[0] <= right[0] and left[1] >= right[1]:  # Left contains right\n",
    "            contains += 1\n",
    "            continue\n",
    "    if right[0] <= left[0] and right[1] >= left[1]:  # Right contains left\n",
    "            contains += 1\n",
    "\n",
    "print('Total containments of one assignment in the other: {0}'.format(contains))"
   ]
  }
 ],
 "metadata": {
  "kernelspec": {
   "display_name": "Python 3",
   "language": "python",
   "name": "python3"
  },
  "language_info": {
   "codemirror_mode": {
    "name": "ipython",
    "version": 2
   },
   "file_extension": ".py",
   "mimetype": "text/x-python",
   "name": "python",
   "nbconvert_exporter": "python",
   "pygments_lexer": "ipython2",
   "version": "2.7.6"
  }
 },
 "nbformat": 4,
 "nbformat_minor": 0
}
