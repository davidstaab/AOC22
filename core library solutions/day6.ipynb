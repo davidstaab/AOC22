{
 "cells": [
  {
   "cell_type": "markdown",
   "source": [
    "**Utilities**"
   ],
   "metadata": {
    "collapsed": false
   }
  },
  {
   "cell_type": "code",
   "execution_count": 1,
   "outputs": [],
   "source": [
    "from collections import deque\n",
    "\n",
    "\n",
    "class StartFinder:\n",
    "\n",
    "    def __init__(self, seqlen: int, init: str=''):\n",
    "        \"\"\"\n",
    "        Creates a Start-of-*** sequence finder\n",
    "        :param seqlen: Length of SOP sequence\n",
    "        :param init: Stream of characters to initialize the internal buffer.\n",
    "        \"\"\"\n",
    "        self.seqlen = seqlen\n",
    "        self._buffer = deque(maxlen=seqlen)\n",
    "        if len(init):\n",
    "            self._buffer.extend(list(init))\n",
    "        self.i = len(self._buffer)  # Track the total characters seen internally, for the caller's convenience\n",
    "\n",
    "    def find_stream(self, char: str) -> int:\n",
    "        \"\"\"\n",
    "        Finds a start sequence. Call within a streaming loop.\n",
    "        :param char: Single-character string from data stream\n",
    "        :return: Index of character after the SOP sequence, if found; else -1 if not yet found.\n",
    "        \"\"\"\n",
    "        if len(self._buffer) == self.seqlen:\n",
    "            if len(set(self._buffer)) == len(self._buffer): return self.i  # If buffer shrinks as a set, dupe chars were found\n",
    "        self._buffer.append(char)\n",
    "        self.i += 1\n",
    "        return -1\n",
    "\n",
    "    @property\n",
    "    def buffer(self) -> str:\n",
    "        return ''.join([self._buffer.popleft() for _ in range(len(self._buffer))])"
   ],
   "metadata": {
    "collapsed": false
   }
  },
  {
   "cell_type": "markdown",
   "source": [
    "**Part 1:** Find the start-of-packet sequence"
   ],
   "metadata": {
    "collapsed": false
   }
  },
  {
   "cell_type": "code",
   "execution_count": 2,
   "metadata": {
    "collapsed": true
   },
   "outputs": [
    {
     "name": "stdout",
     "output_type": "stream",
     "text": [
      "Start-of-packet sequence found at 1920: brmd\n"
     ]
    }
   ],
   "source": [
    "with open('../inputs/day6-input') as f:\n",
    "    sop = StartFinder(4)\n",
    "    while True:\n",
    "        i = sop.find_stream(f.read(1))\n",
    "        if i >= 0: break\n",
    "\n",
    "print('Start-of-packet sequence found at {0}: {1}'.format(i, sop.buffer))"
   ]
  },
  {
   "cell_type": "markdown",
   "source": [
    "**Part 2:** Find the start-of-message sequence"
   ],
   "metadata": {
    "collapsed": false
   }
  },
  {
   "cell_type": "code",
   "execution_count": 3,
   "outputs": [
    {
     "name": "stdout",
     "output_type": "stream",
     "text": [
      "Start-of-message sequence found at 2334: qtpdmfcwglnbjz\n"
     ]
    }
   ],
   "source": [
    "with open('../inputs/day6-input') as f:\n",
    "    som = StartFinder(14)\n",
    "    while True:\n",
    "        i = som.find_stream(f.read(1))\n",
    "        if i >= 0: break\n",
    "\n",
    "print('Start-of-message sequence found at {0}: {1}'.format(i, som.buffer))"
   ],
   "metadata": {
    "collapsed": false
   }
  }
 ],
 "metadata": {
  "kernelspec": {
   "display_name": "Python 3",
   "language": "python",
   "name": "python3"
  },
  "language_info": {
   "codemirror_mode": {
    "name": "ipython",
    "version": 2
   },
   "file_extension": ".py",
   "mimetype": "text/x-python",
   "name": "python",
   "nbconvert_exporter": "python",
   "pygments_lexer": "ipython2",
   "version": "2.7.6"
  }
 },
 "nbformat": 4,
 "nbformat_minor": 0
}
