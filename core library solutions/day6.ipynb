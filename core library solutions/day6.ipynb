{
 "cells": [
  {
   "cell_type": "code",
   "execution_count": 20,
   "metadata": {
    "collapsed": true
   },
   "outputs": [
    {
     "name": "stdout",
     "output_type": "stream",
     "text": [
      "Start-of-packet sequence found at 1920: ['d', 'm', 'r', 'b']\n"
     ]
    }
   ],
   "source": [
    "from collections import deque\n",
    "\n",
    "buffer_len = 4\n",
    "buffer = deque(maxlen=buffer_len)\n",
    "with open('../inputs/day6-input') as f:\n",
    "    buffer.extend(list(f.read(buffer_len)))  # Initialize\n",
    "\n",
    "    \"\"\" Stream characters into the buffer \"\"\"\n",
    "    c = buffer[buffer_len - 1]\n",
    "    i = buffer_len\n",
    "    while len(c):\n",
    "        if len(set(buffer)) == len(buffer): break  # Test for uniques: if buffer shrinks as a set, dupes were found\n",
    "        buffer.append(f.read(1))\n",
    "        i += 1\n",
    "\n",
    "print('Start-of-packet sequence found at {0}: {1}'.format(i, [buffer.pop() for _ in range(buffer_len)]))"
   ]
  }
 ],
 "metadata": {
  "kernelspec": {
   "display_name": "Python 3",
   "language": "python",
   "name": "python3"
  },
  "language_info": {
   "codemirror_mode": {
    "name": "ipython",
    "version": 2
   },
   "file_extension": ".py",
   "mimetype": "text/x-python",
   "name": "python",
   "nbconvert_exporter": "python",
   "pygments_lexer": "ipython2",
   "version": "2.7.6"
  }
 },
 "nbformat": 4,
 "nbformat_minor": 0
}
