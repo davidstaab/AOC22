{
 "cells": [
  {
   "cell_type": "markdown",
   "source": [
    "Utilities:"
   ],
   "metadata": {
    "collapsed": false
   }
  },
  {
   "cell_type": "code",
   "execution_count": 1,
   "metadata": {
    "collapsed": true
   },
   "outputs": [],
   "source": [
    "import sys\n",
    "sys.path.append('..')\n",
    "from shared.aocutil import slice_deque, update_deque\n"
   ]
  },
  {
   "cell_type": "markdown",
   "source": [
    "Part 1"
   ],
   "metadata": {
    "collapsed": false
   }
  },
  {
   "cell_type": "code",
   "execution_count": 2,
   "outputs": [],
   "source": [
    "from copy import deepcopy\n",
    "from collections import deque\n",
    "\n",
    "monkeys = []\n",
    "monkey_biz = []\n",
    "for l in open('../inputs/day11-input'):\n",
    "    if l == '\\n':\n",
    "        monkeys.append(deepcopy(monkey_biz))\n",
    "        monkey_biz.clear()\n",
    "    else:\n",
    "        monkey_biz.append(l.strip())\n",
    "monkeys.append(monkey_biz.copy())\n",
    "del monkey_biz\n",
    "\n",
    "# Clean up data; a more polite version of me would make a Monkey class with named attributes\n",
    "for i, biz in enumerate(monkeys):\n",
    "    biz = biz[1:]  # Remove the first line; already encoded in 'monkeys' via index\n",
    "    biz[0] = deque([int(_) for _ in biz[0].split(': ')[1].split(', ')])  # Extract item list\n",
    "    biz[1] = tuple(biz[1][21:].split())  # Extract operator and operand\n",
    "    biz[2] = int(biz[2][19:]) # Extract dividend for floor operation\n",
    "    biz[3] = int(biz[3][25:]) # Extract monkey index for 'true' condition\n",
    "    biz[4] = int(biz[4][25:]) # Extract monkey index for 'false' condition\n",
    "    biz.append(0)  # Add an entry for number of items inspected by this monkey\n",
    "    monkeys[i] = biz\n"
   ],
   "metadata": {
    "collapsed": false
   }
  },
  {
   "cell_type": "code",
   "execution_count": 4,
   "outputs": [
    {
     "name": "stdout",
     "output_type": "stream",
     "text": [
      "[39, 689, 702, 95, 573, 694, 703, 26]\n",
      "Solution: 342 * 352 = 120384\n"
     ]
    }
   ],
   "source": [
    "\"\"\"\n",
    "One \"round\":\n",
    "0. For each monkey:\n",
    "    1. For each starting value:\n",
    "        2. Monkey.inspect (\"operation\" on next in FIFO)\n",
    "        3. Me.relief (value // 3)\n",
    "        4. Monkey.test (\"test\")\n",
    "        5. Monkey.throw(bool)\n",
    "        6. OtherMonkey.catch (append to FIFO)\n",
    "\n",
    "Over 20 rounds, count #2 for each monkey. Multiply the top 2 values to get \"monkey business\".\n",
    "\"\"\"\n",
    "\n",
    "\n",
    "for _ in range(20):\n",
    "    # One round:\n",
    "    for m, biz in enumerate(monkeys):\n",
    "        for instr in range(len(biz[0])):  # Step through the list of instructions\n",
    "            try:\n",
    "                item_val = biz[0].popleft()\n",
    "                biz[5] += 1\n",
    "            except IndexError as e:\n",
    "                print(f'Monkey {m}, instruction {instr}: {e}')\n",
    "                continue\n",
    "\n",
    "            operand = biz[1][1]\n",
    "            match biz[1][0]:\n",
    "                case '+':\n",
    "                    item_val += int(operand)\n",
    "                case '-':\n",
    "                    item_val -= int(operand)\n",
    "                case '*':\n",
    "                    if operand == 'old':\n",
    "                        item_val = item_val ** 2\n",
    "                    else:\n",
    "                        item_val *= int(operand)\n",
    "                case '/':\n",
    "                    item_val /= int(operand)\n",
    "\n",
    "            item_val = item_val // 3\n",
    "            throw_to = biz[3] if not item_val % biz[2] else biz[4]\n",
    "            monkeys[throw_to][0].append(item_val)\n",
    "\n",
    "inspections = [biz[5] for biz in monkeys]\n",
    "print(inspections)\n",
    "print(f'Solution: 342 * 352 = 120384')\n",
    "# If you don't see those values in the list, you probably didn't restart the iPython kernel to flush the list-of-lists from memory first."
   ],
   "metadata": {
    "collapsed": false
   }
  }
 ],
 "metadata": {
  "kernelspec": {
   "display_name": "Python 3",
   "language": "python",
   "name": "python3"
  },
  "language_info": {
   "codemirror_mode": {
    "name": "ipython",
    "version": 2
   },
   "file_extension": ".py",
   "mimetype": "text/x-python",
   "name": "python",
   "nbconvert_exporter": "python",
   "pygments_lexer": "ipython2",
   "version": "2.7.6"
  }
 },
 "nbformat": 4,
 "nbformat_minor": 0
}
