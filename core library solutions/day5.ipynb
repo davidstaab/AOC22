{
 "cells": [
  {
   "cell_type": "markdown",
   "source": [
    "**Utilities**"
   ],
   "metadata": {
    "collapsed": false
   }
  },
  {
   "cell_type": "code",
   "execution_count": 1,
   "metadata": {
    "collapsed": true
   },
   "outputs": [],
   "source": [
    "import re\n",
    "from collections import deque\n",
    "from copy import deepcopy\n",
    "\n",
    "# I made this regex more brittle by encoding the instruction format directly into it. This ensures that any change to the source format will break the code, causing it to fail whatever tests would be written for it. Good interface design for something as flimsy as regex (or shell, etc.).\n",
    "instr_regex = re.compile(r'^move\\s*(?P<mult>\\d+)\\s*from\\s*(?P<source>\\d+)\\s*to\\s*(?P<target>\\d+)$')\n",
    "\n",
    "# Rather than make this a class or function, I'll just run it as a script. Too many public variables used in other contexts after it's completed.\n",
    "with open('../inputs/day5-input') as f:\n",
    "    \"\"\" Find the table in the file \"\"\"\n",
    "    rows = 0\n",
    "    line = f.readline()\n",
    "    while not line.lstrip()[0].isdigit():\n",
    "        rows += 1\n",
    "        line = f.readline()\n",
    "\n",
    "    \"\"\" Read the table into a data structure \"\"\"\n",
    "    col_offsets = [_.start() for _ in re.finditer(re.compile(r'\\d'), line)]\n",
    "    stop = f.tell()  # We've read far enough to capture the table\n",
    "    f.seek(0)\n",
    "    table_raw = f.readlines(stop)[:rows]\n",
    "    table = [[row[_] for _ in col_offsets] for row in table_raw]\n",
    "\n",
    "    queue_list = [deque() for _ in col_offsets]\n",
    "    for r in table:\n",
    "        for i, c in enumerate(r):\n",
    "            if c != ' ':\n",
    "                queue_list[i].appendleft(c)"
   ]
  },
  {
   "cell_type": "markdown",
   "source": [
    "**Part 1** Follow the instructions and see what ends up on top"
   ],
   "metadata": {
    "collapsed": false
   }
  },
  {
   "cell_type": "code",
   "execution_count": 2,
   "outputs": [
    {
     "name": "stdout",
     "output_type": "stream",
     "text": [
      "Crates on top: SHMSDGZVC\n"
     ]
    }
   ],
   "source": [
    "pt1_list = deepcopy(queue_list)\n",
    "\n",
    "\"\"\" Follow the instructions \"\"\"\n",
    "with open('../inputs/day5-input') as f:\n",
    "    f.seek(stop) # Return to the line after the table and its legend\n",
    "    while True:\n",
    "        line = f.readline()\n",
    "        if len(line) != 0:  # Check for EOF\n",
    "            instruction = re.match(instr_regex, line.strip())\n",
    "            if instruction:  # Check for a non-instruction line\n",
    "                details = instruction.groupdict()\n",
    "                for _ in range(int(details['mult'])):\n",
    "                    pt1_list[int(details['target']) - 1].append(pt1_list[int(details['source']) - 1].pop())\n",
    "        else:\n",
    "            break\n",
    "\n",
    "print('Crates on top: ' + ''.join([_.pop() for _ in pt1_list]))"
   ],
   "metadata": {
    "collapsed": false
   }
  },
  {
   "cell_type": "markdown",
   "source": [
    "**Part 2**: Move several crates at once, preserving order"
   ],
   "metadata": {
    "collapsed": false
   }
  },
  {
   "cell_type": "code",
   "execution_count": 6,
   "outputs": [
    {
     "name": "stdout",
     "output_type": "stream",
     "text": [
      "Crates on top: VRZGHDFBQ\n"
     ]
    }
   ],
   "source": [
    "pt2_list = deepcopy(queue_list)\n",
    "crane_queue = deque()  # Intermediate Q for holding a stack of crates to be moved all together\n",
    "\n",
    "\"\"\" Follow the instructions \"\"\"\n",
    "with open('../inputs/day5-input') as f:\n",
    "    f.seek(stop) # Return to the line after the table and its legend\n",
    "    while True:\n",
    "        line = f.readline()\n",
    "        if len(line) != 0:  # Check for EOF\n",
    "            instruction = re.match(instr_regex, line.strip())\n",
    "            if instruction:  # Check for a non-instruction line\n",
    "                details = instruction.groupdict()\n",
    "                it = range(int(details['mult']))\n",
    "                for _ in it:\n",
    "                    crane_queue.append(pt2_list[int(details['source']) - 1].pop())\n",
    "                for _ in it:\n",
    "                    pt2_list[int(details['target']) - 1].append(crane_queue.pop())\n",
    "        else:\n",
    "            break\n",
    "\n",
    "print('Crates on top: ' + ''.join([_.pop() for _ in pt2_list]))"
   ],
   "metadata": {
    "collapsed": false
   }
  }
 ],
 "metadata": {
  "kernelspec": {
   "display_name": "Python 3",
   "language": "python",
   "name": "python3"
  },
  "language_info": {
   "codemirror_mode": {
    "name": "ipython",
    "version": 2
   },
   "file_extension": ".py",
   "mimetype": "text/x-python",
   "name": "python",
   "nbconvert_exporter": "python",
   "pygments_lexer": "ipython2",
   "version": "2.7.6"
  }
 },
 "nbformat": 4,
 "nbformat_minor": 0
}
