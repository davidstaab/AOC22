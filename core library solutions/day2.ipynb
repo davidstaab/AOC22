{
 "cells": [
  {
   "cell_type": "markdown",
   "source": [
    "**Part 1**\n",
    "Respond with the shape given by the input, assuming A==X, B==Y, C==Z"
   ],
   "metadata": {
    "collapsed": false
   }
  },
  {
   "cell_type": "code",
   "execution_count": 1,
   "outputs": [
    {
     "name": "stdout",
     "output_type": "stream",
     "text": [
      "Total score: 13565\n"
     ]
    }
   ],
   "source": [
    "from collections import namedtuple\n",
    "\n",
    "Shape = namedtuple('Shape', 'his mine score')\n",
    "shapes = [Shape('A', 'X', 1), Shape('B', 'Y', 2), Shape('C', 'Z', 3)]\n",
    "result_scores = [3, 6, 0]  # Draw, Win, Lose (arranged for modulo arithmetic)\n",
    "\n",
    "final_score = 0\n",
    "my_idx, his_idx = 0, 0\n",
    "for line in open('../inputs/day2-input'):\n",
    "    his, mine = line.rstrip().split(' ')\n",
    "    for s in shapes:\n",
    "        if s.mine == mine:\n",
    "            my_idx = shapes.index(s)\n",
    "            final_score += s.score\n",
    "            break\n",
    "    for s in shapes:\n",
    "        if s.his == his:\n",
    "            his_idx = shapes.index(s)\n",
    "            break\n",
    "    final_score += result_scores[(my_idx - his_idx) % len(shapes)]\n",
    "\n",
    "print('Total score: {0}'.format(final_score))"
   ],
   "metadata": {
    "collapsed": false
   }
  },
  {
   "cell_type": "markdown",
   "source": [
    "**Part 2**\n",
    "The input's X,Y,Z are results. Choose the shape that yields the input result."
   ],
   "metadata": {
    "collapsed": false
   }
  },
  {
   "cell_type": "code",
   "execution_count": 2,
   "outputs": [
    {
     "name": "stdout",
     "output_type": "stream",
     "text": [
      "Total score: 12424\n"
     ]
    }
   ],
   "source": [
    "from collections import namedtuple\n",
    "\n",
    "Shape = namedtuple('Shape', 'name score')\n",
    "shapes = [Shape('A', 1), Shape('B', 2), Shape('C', 3)]\n",
    "\n",
    "Result = namedtuple('Result', 'name offset score')\n",
    "# Index items to modulo subtraction results:\n",
    "# Draw = 0, Win = 1, Loss = -1 (mod 3)\n",
    "# Use a \"pointer\" to index the Shape I'll throw in response\n",
    "results = [Result('Y', 0, 3), Result('Z', 1, 6), Result('X', -1, 0)]\n",
    "\n",
    "final_score = 0\n",
    "my_idx, his_idx, goal_idx = 0, 0, 0\n",
    "for line in open('../inputs/day2-input'):\n",
    "    his_shape, goal = line.rstrip().split(' ')\n",
    "    for s in shapes:\n",
    "        if s.name == his_shape:\n",
    "            his_idx = shapes.index(s)\n",
    "            break\n",
    "    for r in results:\n",
    "        if r.name == goal:\n",
    "            goal_idx = results.index(r)\n",
    "            break\n",
    "    my_idx = (his_idx + results[goal_idx].offset) % len(shapes)\n",
    "    final_score += shapes[my_idx].score + results[goal_idx].score\n",
    "\n",
    "print('Total score: {0}'.format(final_score))"
   ],
   "metadata": {
    "collapsed": false
   }
  }
 ],
 "metadata": {
  "kernelspec": {
   "display_name": "Python 3",
   "language": "python",
   "name": "python3"
  },
  "language_info": {
   "codemirror_mode": {
    "name": "ipython",
    "version": 2
   },
   "file_extension": ".py",
   "mimetype": "text/x-python",
   "name": "python",
   "nbconvert_exporter": "python",
   "pygments_lexer": "ipython2",
   "version": "2.7.6"
  }
 },
 "nbformat": 4,
 "nbformat_minor": 0
}
