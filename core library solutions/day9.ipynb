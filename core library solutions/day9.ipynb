{
 "cells": [
  {
   "cell_type": "markdown",
   "source": [
    "**Part 1:** Follow the head and count the tail's visited tiles"
   ],
   "metadata": {
    "collapsed": false
   }
  },
  {
   "cell_type": "code",
   "execution_count": 3,
   "metadata": {
    "collapsed": true
   },
   "outputs": [
    {
     "name": "stdout",
     "output_type": "stream",
     "text": [
      "6175 positions visited by the tail\n"
     ]
    }
   ],
   "source": [
    "hx = hy = tx = ty = 0\n",
    "visits = {(0, 0)}\n",
    "\n",
    "for l in open('../inputs/day9-input'):\n",
    "    direction, steps = l.rstrip().split()\n",
    "    for s in range(int(steps)):\n",
    "        if direction == 'D':\n",
    "            hy -= 1\n",
    "        elif direction == 'U':\n",
    "            hy += 1\n",
    "        elif direction == 'L':\n",
    "            hx -= 1\n",
    "        elif direction == 'R':\n",
    "            hx += 1\n",
    "        else:\n",
    "            raise ValueError(f'Direction {direction} unsupported.')\n",
    "\n",
    "        x_dist = hx - tx\n",
    "        y_dist = hy - ty\n",
    "        if abs(x_dist) > 1 or abs(y_dist) > 1:  # 2 steps away in either axis == not touching\n",
    "            if x_dist > 0:\n",
    "                tx += 1\n",
    "            elif x_dist < 0:\n",
    "                tx -= 1\n",
    "\n",
    "            if y_dist > 0:\n",
    "                ty += 1\n",
    "            elif y_dist < 0:\n",
    "                ty -= 1\n",
    "\n",
    "        visits.add((tx, ty))\n",
    "\n",
    "print(f'{len(visits)} positions visited by the tail')"
   ]
  },
  {
   "cell_type": "markdown",
   "source": [
    "**Part 2:** Same, but the rope has ten knots"
   ],
   "metadata": {
    "collapsed": false
   }
  },
  {
   "cell_type": "code",
   "execution_count": 4,
   "outputs": [
    {
     "name": "stdout",
     "output_type": "stream",
     "text": [
      "2578 positions visited by the tail\n"
     ]
    }
   ],
   "source": [
    "class Knot:\n",
    "\n",
    "    def __init__(self):\n",
    "        self.x = self.y = 0\n",
    "        self.visits = {(self.x, self.y)}\n",
    "\n",
    "    def lead(self, direction: str, steps: int) -> tuple[int, int]:\n",
    "        for _ in range(steps):\n",
    "            if direction == 'D':\n",
    "                self.y -= 1\n",
    "            elif direction == 'U':\n",
    "                self.y += 1\n",
    "            elif direction == 'L':\n",
    "                self.x -= 1\n",
    "            elif direction == 'R':\n",
    "                self.x += 1\n",
    "            else:\n",
    "                raise ValueError(f'Direction {direction} unsupported.')\n",
    "\n",
    "            self.__visit()\n",
    "            yield self.x, self.y\n",
    "\n",
    "    def follow(self, leader_pos: tuple[int, int]) -> tuple[int, int]:\n",
    "        x_dist = leader_pos[0] - self.x\n",
    "        y_dist = leader_pos[1] - self.y\n",
    "        if abs(x_dist) > 1 or abs(y_dist) > 1:\n",
    "            if x_dist > 0:\n",
    "                self.x += 1\n",
    "            elif x_dist < 0:\n",
    "                self.x -= 1\n",
    "\n",
    "            if y_dist > 0:\n",
    "                self.y += 1\n",
    "            elif y_dist < 0:\n",
    "                self.y -= 1\n",
    "\n",
    "        self.__visit()\n",
    "        return self.x, self.y\n",
    "\n",
    "    def __visit(self):\n",
    "        self.visits.add((self.x, self.y))\n",
    "\n",
    "    @property\n",
    "    def visitations(self) -> int:\n",
    "        return len(self.visits)\n",
    "\n",
    "\n",
    "knots = [Knot() for _ in range(10)]\n",
    "\n",
    "for l in open('../inputs/day9-input'):\n",
    "    direction, steps = l.rstrip().split()\n",
    "    for pos in knots[0].lead(direction, int(steps)):\n",
    "        for k in knots[1:]:\n",
    "            pos = k.follow(pos)\n",
    "\n",
    "print(f'{knots[-1].visitations} positions visited by the tail')\n"
   ],
   "metadata": {
    "collapsed": false
   }
  }
 ],
 "metadata": {
  "kernelspec": {
   "display_name": "Python 3",
   "language": "python",
   "name": "python3"
  },
  "language_info": {
   "codemirror_mode": {
    "name": "ipython",
    "version": 2
   },
   "file_extension": ".py",
   "mimetype": "text/x-python",
   "name": "python",
   "nbconvert_exporter": "python",
   "pygments_lexer": "ipython2",
   "version": "2.7.6"
  }
 },
 "nbformat": 4,
 "nbformat_minor": 0
}
