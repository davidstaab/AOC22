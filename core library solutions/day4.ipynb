{
 "cells": [
  {
   "cell_type": "markdown",
   "source": [
    "**Utilities**"
   ],
   "metadata": {
    "collapsed": false
   }
  },
  {
   "cell_type": "code",
   "execution_count": 1,
   "outputs": [],
   "source": [
    "\"\"\"\n",
    "Note to self: Why make this function into a class? Because I have to init its variable outside the scope of a loop that calls it. The intervening loop makes it tricky to handle (re)initialization. A generator function didn't fit the bill either.\n",
    "\"\"\"\n",
    "\n",
    "class Assigner:\n",
    "\n",
    "    def __init__(self):\n",
    "        self._assignments = [[], []]\n",
    "        return\n",
    "\n",
    "    def reinit(self):\n",
    "        self.__init__()\n",
    "        return\n",
    "\n",
    "    def assign(self, line:str):\n",
    "        for idx, a in zip(range(2), line.rstrip().split(',', maxsplit=1)):\n",
    "            assign_strs = a.split('-', maxsplit=1)\n",
    "            self._assignments[idx] = [int(_) for _ in assign_strs]\n",
    "        return self._assignments[0], self._assignments[1]\n",
    "\n",
    "assigner = Assigner()"
   ],
   "metadata": {
    "collapsed": false
   }
  },
  {
   "cell_type": "markdown",
   "source": [
    "**Part 1:** Count assignments that fully contain the other"
   ],
   "metadata": {
    "collapsed": false
   }
  },
  {
   "cell_type": "code",
   "execution_count": 2,
   "metadata": {
    "collapsed": true
   },
   "outputs": [
    {
     "name": "stdout",
     "output_type": "stream",
     "text": [
      "Total containments of one assignment in the other: 305\n"
     ]
    }
   ],
   "source": [
    "contains = 0\n",
    "for line in open('../inputs/day4-input'):\n",
    "    left, right = assigner.assign(line)\n",
    "    if left[0] <= right[0] and left[1] >= right[1]:  # Left contains right\n",
    "            contains += 1\n",
    "            continue\n",
    "    if right[0] <= left[0] and right[1] >= left[1]:  # Right contains left\n",
    "            contains += 1\n",
    "\n",
    "print('Total containments of one assignment in the other: {0}'.format(contains))"
   ]
  },
  {
   "cell_type": "markdown",
   "source": [
    "**Part 2:** Count assignment pairs that overlap"
   ],
   "metadata": {
    "collapsed": false
   }
  },
  {
   "cell_type": "code",
   "execution_count": 3,
   "outputs": [
    {
     "name": "stdout",
     "output_type": "stream",
     "text": [
      "Total overlapping pairs: 811\n"
     ]
    }
   ],
   "source": [
    "overlaps = 0\n",
    "assigner.reinit()\n",
    "for line in open('../inputs/day4-input'):\n",
    "    left, right = assigner.assign(line)\n",
    "    if left[0] <= right[0] <= left[1]:\n",
    "        overlaps += 1\n",
    "        continue\n",
    "    if right[0] <= left[0] <= right[1]:\n",
    "        overlaps += 1\n",
    "\n",
    "print('Total overlapping pairs: {0}'.format(overlaps))"
   ],
   "metadata": {
    "collapsed": false
   }
  }
 ],
 "metadata": {
  "kernelspec": {
   "display_name": "Python 3",
   "language": "python",
   "name": "python3"
  },
  "language_info": {
   "codemirror_mode": {
    "name": "ipython",
    "version": 2
   },
   "file_extension": ".py",
   "mimetype": "text/x-python",
   "name": "python",
   "nbconvert_exporter": "python",
   "pygments_lexer": "ipython2",
   "version": "2.7.6"
  }
 },
 "nbformat": 4,
 "nbformat_minor": 0
}
